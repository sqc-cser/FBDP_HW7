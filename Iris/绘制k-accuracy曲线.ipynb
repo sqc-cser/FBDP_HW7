{
 "cells": [
  {
   "cell_type": "code",
   "execution_count": 24,
   "id": "fc45aeb2",
   "metadata": {},
   "outputs": [
    {
     "name": "stdout",
     "output_type": "stream",
     "text": [
      "[0.9555555555555556, 0.9555555555555556, 0.9555555555555556]\n",
      "[0.9555555555555556, 0.9777777777777777, 0.9555555555555556]\n",
      "[0.9777777777777777, 0.9777777777777777, 0.9555555555555556]\n",
      "[0.9777777777777777, 0.9777777777777777, 0.9555555555555556]\n",
      "[0.9777777777777777, 0.9777777777777777, 0.9555555555555556]\n"
     ]
    }
   ],
   "source": [
    "# 处理单个文件的正确率\n",
    "import pandas as pd\n",
    "Accuracy = [] # 存储所有的正确率数据\n",
    "for i in ['1','3','5','7','9']:\n",
    "    accuracy = [] # 存储单k的正确率数据\n",
    "    for j in ['1','2','3']:\n",
    "        df = pd.read_csv('result/k_'+i+'_r_'+j,sep='\\t',names=['预测','真实'])\n",
    "        df['预测'] = df['预测'].str.slice(5)\n",
    "        df['真实'] = df['真实'].str.slice(5)\n",
    "        accuracy.append(df[df['预测']==df['真实']].shape[0]/df.shape[0]) # 计算正确率\n",
    "    print(accuracy)\n",
    "    mean = (accuracy[0]+accuracy[1]+accuracy[2])/3\n",
    "    Accuracy.append(mean)"
   ]
  },
  {
   "cell_type": "code",
   "execution_count": 25,
   "id": "f65e5863",
   "metadata": {},
   "outputs": [
    {
     "data": {
      "text/plain": [
       "[0.9555555555555556,\n",
       " 0.9629629629629629,\n",
       " 0.9703703703703703,\n",
       " 0.9703703703703703,\n",
       " 0.9703703703703703]"
      ]
     },
     "execution_count": 25,
     "metadata": {},
     "output_type": "execute_result"
    }
   ],
   "source": [
    "Accuracy"
   ]
  },
  {
   "cell_type": "code",
   "execution_count": 27,
   "id": "fa380cc0",
   "metadata": {},
   "outputs": [
    {
     "data": {
      "image/png": "[encoded data removed]",
      "text/plain": [
       "<Figure size 432x288 with 1 Axes>"
      ]
     },
     "metadata": {
      "needs_background": "light"
     },
     "output_type": "display_data"
    }
   ],
   "source": [
    "import matplotlib.pyplot as plt\n",
    "k=[1,3,5,7,9]\n",
    "plt.plot(k,Accuracy,'*')\n",
    "plt.plot(k,Accuracy,'r')\n",
    "plt.show()"
   ]
  },
  {
   "cell_type": "code",
   "execution_count": null,
   "id": "920add63",
   "metadata": {},
   "outputs": [],
   "source": []
  }
 ],
 "metadata": {
  "kernelspec": {
   "display_name": "Python 3 (ipykernel)",
   "language": "python",
   "name": "python3"
  },
  "language_info": {
   "codemirror_mode": {
    "name": "ipython",
    "version": 3
   },
   "file_extension": ".py",
   "mimetype": "text/x-python",
   "name": "python",
   "nbconvert_exporter": "python",
   "pygments_lexer": "ipython3",
   "version": "3.8.10"
  }
 },
 "nbformat": 4,
 "nbformat_minor": 5
}
